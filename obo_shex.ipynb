{
 "cells": [
  {
   "cell_type": "code",
   "execution_count": 16,
   "metadata": {},
   "outputs": [
    {
     "name": "stdout",
     "output_type": "stream",
     "text": [
      "envo\n",
      "  Testing obo:envo.owl against shape http://our.org/example#OBOOntologyShape\n",
      "    Datatype constraint (http://www.w3.org/2001/XMLSchema#string) does not match URIRef <http://orcid.org/0000-0002-4366-3088>\n",
      "wbphenotype\n",
      "  Testing obo:wbphenotype.owl against shape http://our.org/example#OBOOntologyShape\n",
      "       No matching triples found for predicate dc:date\n",
      "cl\n",
      "  Testing obo:cl.owl against shape http://our.org/example#OBOOntologyShape\n",
      "       No matching triples found for predicate dc:date\n"
     ]
    }
   ],
   "source": [
    "from pyshex.evaluate import evaluate\n",
    "from rdflib import Graph, Namespace, XSD, OWL\n",
    "\n",
    "EX = Namespace(\"http://our.org/example#\")\n",
    "FHIR = Namespace(\"http://hl7.org/fhir/\")\n",
    "\n",
    "shex = f\"\"\"PREFIX : <{EX}>\n",
    "PREFIX xsd: <http://www.w3.org/2001/XMLSchema#>\n",
    "PREFIX owl: <http://www.w3.org/2002/07/owl#>\n",
    "PREFIX dc: <http://purl.org/dc/elements/1.1/>\n",
    "PREFIX obo: <http://purl.obolibrary.org/obo/>\n",
    "PREFIX dcterms: <http://purl.org/dc/terms/>\n",
    "PREFIX rdfs: <http://www.w3.org/2000/01/rdf-schema#>\n",
    "BASE <{EX}>\n",
    "\n",
    "start = @:OBOOntologyShape\n",
    "\n",
    ":OBOOntologyShape {{\n",
    "  owl:versionIRI IRI;\n",
    "  dc:creator xsd:string*;\n",
    "  dc:contributor xsd:string*;\n",
    "  dc:title xsd:string;\n",
    "  dc:date xsd:dateTime?;\n",
    "  dc:description xsd:string;\n",
    "  dcterms:license IRI;\n",
    "  owl:versionInfo xsd:string;\n",
    "  protege:defaultLanguage xsd:string?;\n",
    "  rdfs:comment xsd:string*;\n",
    "  dc:subject xsd:string?;\n",
    "  obo:IAO_0000700 IRI*;\n",
    "  dc:type IRI?\n",
    "}}\n",
    "\"\"\"\n",
    "\n",
    "def validate_ont(o):\n",
    "    print(o)\n",
    "    purl = f\"http://purl.obolibrary.org/obo/{o}.owl\"\n",
    "    g = Graph()\n",
    "    g.parse(purl, format=\"xml\")\n",
    "\n",
    "    rslt, reason = evaluate(g, shex, purl)\n",
    "    if rslt:\n",
    "        print(\"CONFORMS\")\n",
    "    else:\n",
    "        print(f\"{reason if reason else 'DOES NOT CONFORM'}\")\n",
    "\n",
    "\n",
    "test_ontologies = ['envo', 'wbphenotype', 'cl']\n",
    "\n",
    "for o in test_ontologies:\n",
    "    validate_ont(o)\n",
    "\n"
   ]
  },
  {
   "cell_type": "code",
   "execution_count": null,
   "metadata": {},
   "outputs": [],
   "source": []
  }
 ],
 "metadata": {
  "kernelspec": {
   "display_name": "Python 3",
   "language": "python",
   "name": "python3"
  },
  "language_info": {
   "codemirror_mode": {
    "name": "ipython",
    "version": 3
   },
   "file_extension": ".py",
   "mimetype": "text/x-python",
   "name": "python",
   "nbconvert_exporter": "python",
   "pygments_lexer": "ipython3",
   "version": "3.8.3"
  }
 },
 "nbformat": 4,
 "nbformat_minor": 4
}
