{
 "cells": [
  {
   "cell_type": "code",
   "execution_count": 30,
   "metadata": {},
   "outputs": [],
   "source": [
    "from pyshex.evaluate import evaluate\n",
    "from rdflib import Graph, Namespace, XSD, OWL\n",
    "\n",
    "EX = Namespace(\"http://purl.obolibrary.org/shape/\")\n",
    "\n",
    "shex = f\"\"\"PREFIX : <{EX}>\n",
    "PREFIX xsd: <http://www.w3.org/2001/XMLSchema#>\n",
    "PREFIX owl: <http://www.w3.org/2002/07/owl#>\n",
    "PREFIX dc: <http://purl.org/dc/elements/1.1/>\n",
    "PREFIX obo: <http://purl.obolibrary.org/obo/>\n",
    "PREFIX dcterms: <http://purl.org/dc/terms/>\n",
    "PREFIX rdf: <http://www.w3.org/1999/02/22-rdf-syntax-ns#>\n",
    "PREFIX rdfs: <http://www.w3.org/2000/01/rdf-schema#>\n",
    "PREFIX protege: <http://protege.stanford.edu/plugins/owl/protege#>\n",
    "BASE <{EX}>\n",
    "\n",
    "start = @:OBOOntologyShape\n",
    "\n",
    ":OBOOntologyShape CLOSED {{\n",
    "  a [owl:Ontology];\n",
    "  owl:versionIRI IRI;\n",
    "  dc:creator xsd:string*;\n",
    "  dc:contributor xsd:string*;\n",
    "  dc:title xsd:string;\n",
    "  dc:date xsd:dateTime?;\n",
    "  dc:description xsd:string;\n",
    "  dcterms:license IRI;\n",
    "  owl:versionInfo xsd:string;\n",
    "  protege:defaultLanguage xsd:string?;\n",
    "  rdfs:comment xsd:string*;\n",
    "  dc:subject xsd:string?;\n",
    "  obo:IAO_0000700 IRI*;\n",
    "  dc:type IRI?\n",
    "}}\n",
    "\"\"\"\n",
    "\n",
    "def validate_ont(o):\n",
    "    print(\"\")\n",
    "    print(f\"Validating {o}\")\n",
    "    purl = f\"http://purl.obolibrary.org/obo/{o}.owl\"\n",
    "    g = Graph()\n",
    "    g.parse(purl, format=\"xml\")\n",
    "\n",
    "    rslt, reason = evaluate(g, shex, purl)\n",
    "    if rslt:\n",
    "        print(\"CONFORMS\")\n",
    "    else:\n",
    "        print(f\"{reason if reason else 'DOES NOT CONFORM'}\")\n"
   ]
  },
  {
   "cell_type": "code",
   "execution_count": 31,
   "metadata": {},
   "outputs": [
    {
     "name": "stdout",
     "output_type": "stream",
     "text": [
      "\n",
      "Validating envo\n",
      "  Testing obo:envo.owl against shape http://purl.obolibrary.org/shape/OBOOntologyShape\n",
      "    Unmatched triples in CLOSED shape:\n",
      "\t<http://purl.obolibrary.org/obo/envo.owl> <http://xmlns.com/foaf/0.1/homepage> http://environmentontology.org/ .\n",
      "\t<http://purl.obolibrary.org/obo/envo.owl> <http://usefulinc.com/ns/doap#GitRepository> https://github.com/EnvironmentOntology/envo/ .\n",
      "\t<http://purl.obolibrary.org/obo/envo.owl> <http://usefulinc.com/ns/doap#bug-database> https://github.com/EnvironmentOntology/envo/issues/ .\n",
      "\t<http://purl.obolibrary.org/obo/envo.owl> <http://www.geneontology.org/formats/oboInOwl#default-namespace> ENVO .\n",
      "\n",
      "Validating wbphenotype\n",
      "  Testing obo:wbphenotype.owl against shape http://purl.obolibrary.org/shape/OBOOntologyShape\n",
      "    Unmatched triples in CLOSED shape:\n",
      "\t<http://purl.obolibrary.org/obo/wbphenotype.owl> <http://www.geneontology.org/formats/oboInOwl#saved-by> chris-grove .\n",
      "\t<http://purl.obolibrary.org/obo/wbphenotype.owl> <http://www.geneontology.org/formats/oboInOwl#default-namespace> C_elegans_phenotype_ontology .\n",
      "\n",
      "Validating cl\n",
      "CONFORMS\n"
     ]
    }
   ],
   "source": [
    "test_ontologies = ['envo', 'wbphenotype', 'cl']\n",
    "\n",
    "for o in test_ontologies:\n",
    "    validate_ont(o)"
   ]
  },
  {
   "cell_type": "code",
   "execution_count": null,
   "metadata": {},
   "outputs": [],
   "source": []
  }
 ],
 "metadata": {
  "kernelspec": {
   "display_name": "Python 3",
   "language": "python",
   "name": "python3"
  },
  "language_info": {
   "codemirror_mode": {
    "name": "ipython",
    "version": 3
   },
   "file_extension": ".py",
   "mimetype": "text/x-python",
   "name": "python",
   "nbconvert_exporter": "python",
   "pygments_lexer": "ipython3",
   "version": "3.8.3"
  }
 },
 "nbformat": 4,
 "nbformat_minor": 4
}
